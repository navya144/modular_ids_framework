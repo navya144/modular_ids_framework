{
 "cells": [
  {
   "cell_type": "code",
   "execution_count": 1,
   "id": "065dfeb1",
   "metadata": {},
   "outputs": [],
   "source": [
    "import pandas as pd"
   ]
  },
  {
   "cell_type": "code",
   "execution_count": null,
   "id": "8613e12c",
   "metadata": {},
   "outputs": [],
   "source": [
    "exfil = pd.concat([pd.read_csv('exfil_icmp.csv'), pd.read_csv('exfil_ssh.csv'), pd.read_csv('exfil_tcp.csv')])\n",
    "exfil['Label'] = 'Data Exfiltration'\n",
    "\n",
    "recon = pd.concat([pd.read_csv('nmap_t1_sS_f.csv'), pd.read_csv('nmap_sV_t4_sS.csv'), pd.read_csv('nmap_t2_F.csv'), pd.read_csv('nmap_t2_small_f.csv')])\n",
    "recon['Label'] = 'Reconnaissance'\n",
    "\n",
    "foothold = pd.concat([pd.read_csv('hydra_ftp.csv'), pd.read_csv('hydra_ssh.csv')])\n",
    "foothold['Label'] = 'Establish Foothold'"
   ]
  },
  {
   "cell_type": "code",
   "execution_count": null,
   "id": "b9710384",
   "metadata": {},
   "outputs": [],
   "source": []
  }
 ],
 "metadata": {
  "kernelspec": {
   "display_name": "navya",
   "language": "python",
   "name": "python3"
  },
  "language_info": {
   "codemirror_mode": {
    "name": "ipython",
    "version": 3
   },
   "file_extension": ".py",
   "mimetype": "text/x-python",
   "name": "python",
   "nbconvert_exporter": "python",
   "pygments_lexer": "ipython3",
   "version": "3.11.11"
  }
 },
 "nbformat": 4,
 "nbformat_minor": 5
}
