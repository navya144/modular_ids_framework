{
 "cells": [
  {
   "cell_type": "code",
   "execution_count": null,
   "id": "f8a404d8",
   "metadata": {},
   "outputs": [],
   "source": [
    "import pandas as pd"
   ]
  },
  {
   "cell_type": "code",
   "execution_count": 2,
   "id": "fe070fa3",
   "metadata": {},
   "outputs": [
    {
     "name": "stderr",
     "output_type": "stream",
     "text": [
      "C:\\Users\\zac\\AppData\\Local\\Temp\\ipykernel_1960\\2769925629.py:1: DtypeWarning: Columns (83) have mixed types. Specify dtype option on import or set low_memory=False.\n",
      "  golden_eye = pd.read_csv('golden_eye.csv')\n"
     ]
    }
   ],
   "source": [
    "golden_eye = pd.read_csv('golden_eye.csv')\n",
    "hulk = pd.read_csv('HULK.csv')\n",
    "patator_ftp = pd.read_csv('patator_ftp.csv')\n",
    "patator_ssh = pd.read_csv('patator_ssh.csv')\n",
    "slowhttptest_b = pd.read_csv('slowhttptest_B.csv')\n",
    "slowhttptest_r = pd.read_csv('slowhttptest_r.csv')\n",
    "slowhttptest_x = pd.read_csv('slowhttptest_x.csv')\n",
    "slowloris = pd.read_csv('slowloris.csv')\n"
   ]
  },
  {
   "cell_type": "code",
   "execution_count": 6,
   "id": "a2acef4a",
   "metadata": {},
   "outputs": [],
   "source": [
    "golden_eye['Label'] = 'DoS GoldenEye'\n",
    "hulk['Label'] = 'DoS Hulk'\n",
    "patator_ftp['Label'] = 'FTP-Patator'\n",
    "patator_ssh['Label'] = 'SSH-Patator'\n",
    "slowhttptest_b['Label'] = 'DoS Slowhttptest'\n",
    "slowhttptest_r['Label'] = 'DoS Slowhttptest'\n",
    "slowhttptest_x['Label'] = 'DoS Slowhttptest'\n",
    "slowloris['Label'] = 'DoS Slowloris'"
   ]
  },
  {
   "cell_type": "code",
   "execution_count": 11,
   "id": "b9f1860e",
   "metadata": {},
   "outputs": [],
   "source": [
    "df = pd.concat([golden_eye[:4000], hulk[:4000], patator_ftp[:4000], patator_ssh[:4000], slowhttptest_b[:1333], slowhttptest_r[:1333], slowhttptest_x[:1333], slowloris[:4000]])"
   ]
  },
  {
   "cell_type": "code",
   "execution_count": 12,
   "id": "56beb2ce",
   "metadata": {},
   "outputs": [
    {
     "data": {
      "text/plain": [
       "<Axes: >"
      ]
     },
     "execution_count": 12,
     "metadata": {},
     "output_type": "execute_result"
    },
    {
     "data": {
      "image/png": "[encoded data removed]",
      "text/plain": [
       "<Figure size 640x480 with 1 Axes>"
      ]
     },
     "metadata": {},
     "output_type": "display_data"
    }
   ],
   "source": [
    "df['Label'].hist()"
   ]
  },
  {
   "cell_type": "code",
   "execution_count": 14,
   "id": "9b73a557",
   "metadata": {},
   "outputs": [],
   "source": [
    "df = df.sample(frac=1, random_state=29)"
   ]
  },
  {
   "cell_type": "code",
   "execution_count": 16,
   "id": "14c73211",
   "metadata": {},
   "outputs": [
    {
     "data": {
      "text/plain": [
       "17999.25"
      ]
     },
     "execution_count": 16,
     "metadata": {},
     "output_type": "execute_result"
    }
   ],
   "source": [
    "len(df) * 0.75"
   ]
  },
  {
   "cell_type": "code",
   "execution_count": 18,
   "id": "75bfb1fa",
   "metadata": {},
   "outputs": [],
   "source": [
    "df[:17999].to_csv('testbed_training.csv')"
   ]
  },
  {
   "cell_type": "code",
   "execution_count": 19,
   "id": "ca6b1c71",
   "metadata": {},
   "outputs": [],
   "source": [
    "df[17999:].to_csv('testbed_testing.csv')"
   ]
  },
  {
   "cell_type": "code",
   "execution_count": null,
   "id": "9e5e1d24",
   "metadata": {},
   "outputs": [],
   "source": []
  }
 ],
 "metadata": {
  "kernelspec": {
   "display_name": "ag-forecasting",
   "language": "python",
   "name": "python3"
  },
  "language_info": {
   "codemirror_mode": {
    "name": "ipython",
    "version": 3
   },
   "file_extension": ".py",
   "mimetype": "text/x-python",
   "name": "python",
   "nbconvert_exporter": "python",
   "pygments_lexer": "ipython3",
   "version": "3.11.11"
  }
 },
 "nbformat": 4,
 "nbformat_minor": 5
}
